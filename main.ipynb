{
 "cells": [
  {
   "cell_type": "code",
   "execution_count": null,
   "metadata": {},
   "outputs": [],
   "source": [
    "!pip install flask\r\n",
    "!pip install flask-socketio\r\n",
    "!pip install \"python-socketio[asyncio_client]\""
   ]
  },
  {
   "cell_type": "code",
   "execution_count": null,
   "metadata": {},
   "outputs": [],
   "source": [
    "import numpy as np\r\n",
    "import tensorflow as tf\r\n",
    "from tensorflow import keras\r\n",
    "\r\n",
    "from flask import Flask, render_template\r\n",
    "from flask_socketio import SocketIO, send, emit\r\n",
    "\r\n",
    "import time"
   ]
  },
  {
   "cell_type": "code",
   "execution_count": null,
   "metadata": {},
   "outputs": [],
   "source": [
    "def partition(initial_model: tf.keras.Model, part: int) -> None:\r\n",
    "    part1 = initial_model.layers[:part]\r\n",
    "    part2 = initial_model.layers[part:]\r\n",
    "    \r\n",
    "    part1_model = keras.Model(\r\n",
    "        inputs=model.input,\r\n",
    "        outputs=[layer.output for layer in part1]\r\n",
    "    )\r\n",
    "\r\n",
    "    part2_model = keras.Model(\r\n",
    "        inputs=keras.Input(tensor=part1_model.output),\r\n",
    "        outputs=[layer.output for layer in part2]\r\n",
    "    )\r\n",
    "\r\n",
    "    part1_model.save(\"models/part1\")\r\n",
    "    part2_model.save(\"models/part2\")\r\n",
    "\r\n"
   ]
  },
  {
   "cell_type": "code",
   "execution_count": null,
   "metadata": {},
   "outputs": [],
   "source": [
    "in_list = [[1, 2], [3, 4], [5, 6]]\r\n",
    "inpt = tf.convert_to_tensor(in_list)\r\n",
    "\r\n",
    "layer_a = tf.keras.layers.Dense(3, kernel_initializer=tf.constant_initializer(1.))\r\n",
    "layer_b = tf.keras.layers.Dense(1, kernel_initializer=tf.constant_initializer(1.))"
   ]
  },
  {
   "cell_type": "code",
   "execution_count": null,
   "metadata": {},
   "outputs": [],
   "source": [
    "model = tf.keras.Sequential()\r\n",
    "model.add(layer_a)\r\n",
    "model.add(layer_b)\r\n",
    "out = model(inpt)\r\n",
    "print(\"Local run: {}\".format(out))\r\n",
    "partition(model, 1)"
   ]
  },
  {
   "cell_type": "code",
   "execution_count": null,
   "metadata": {},
   "outputs": [],
   "source": [
    "app = Flask(__name__)\r\n",
    "app.config['SECRET_KEY'] = 'secret!'\r\n",
    "socketio = SocketIO(app)"
   ]
  },
  {
   "cell_type": "code",
   "execution_count": null,
   "metadata": {},
   "outputs": [],
   "source": [
    "@socketio.on('from node', namespace=\"/net\")\r\n",
    "def handle_data(node, data):\r\n",
    "    print(\"Data handled\")\r\n",
    "    if node == \"part1\":\r\n",
    "        print(\"Sending to part2\")\r\n",
    "        socketio.emit('to part2', {\"server\": data}, namespace=\"/net\")\r\n",
    "    elif node == \"part2\":\r\n",
    "        print(\"Done distributing, result is {}\".format(data))\r\n",
    "        exit(0)\r\n",
    "\r\n",
    "@socketio.on('connect', namespace=\"/net\")\r\n",
    "def client_connect(auth):\r\n",
    "    print(\"Auth: \", auth)\r\n",
    "    print(\"{} has connected\".format(auth[\"name\"]))\r\n",
    "    if auth[\"name\"] == \"part2\":\r\n",
    "        print(\"Emitting to part1\")\r\n",
    "        socketio.emit('to part1', {\"server\": in_list}, namespace=\"/net\")"
   ]
  },
  {
   "cell_type": "code",
   "execution_count": null,
   "metadata": {},
   "outputs": [],
   "source": [
    "if __name__ == '__main__':\r\n",
    "    socketio.run(app)"
   ]
  }
 ],
 "metadata": {
  "interpreter": {
   "hash": "5202b1b321302d3e244bf56e867ff8fe1ef9c7446c57e95c118c3d2a6f0522ba"
  },
  "kernelspec": {
   "display_name": "Python 3.8.6 64-bit",
   "name": "python3"
  },
  "language_info": {
   "codemirror_mode": {
    "name": "ipython",
    "version": 3
   },
   "file_extension": ".py",
   "mimetype": "text/x-python",
   "name": "python",
   "nbconvert_exporter": "python",
   "pygments_lexer": "ipython3",
   "version": "3.8.6"
  },
  "orig_nbformat": 2
 },
 "nbformat": 4,
 "nbformat_minor": 2
}