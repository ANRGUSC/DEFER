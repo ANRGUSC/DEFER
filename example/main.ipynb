{
 "cells": [
  {
   "cell_type": "code",
   "execution_count": 1,
   "source": [
    "#!pip install flask\r\n",
    "#!pip install numpy\r\n",
    "#!pip install tensorflow\r\n",
    "#!pip install flask-socketio\r\n",
    "!pip install \"python-socketio[client]\""
   ],
   "outputs": [
    {
     "output_type": "stream",
     "name": "stdout",
     "text": [
      "Requirement already satisfied: python-socketio[client] in c:\\users\\arjun\\appdata\\local\\programs\\python\\python39\\lib\\site-packages (5.4.0)\n",
      "Requirement already satisfied: bidict>=0.21.0 in c:\\users\\arjun\\appdata\\local\\programs\\python\\python39\\lib\\site-packages (from python-socketio[client]) (0.21.2)\n",
      "Requirement already satisfied: python-engineio>=4.1.0 in c:\\users\\arjun\\appdata\\local\\programs\\python\\python39\\lib\\site-packages (from python-socketio[client]) (4.2.1)\n",
      "Requirement already satisfied: requests>=2.21.0 in c:\\users\\arjun\\appdata\\local\\programs\\python\\python39\\lib\\site-packages (from python-socketio[client]) (2.26.0)\n",
      "Collecting websocket-client>=0.54.0\n",
      "  Downloading websocket_client-1.2.1-py2.py3-none-any.whl (52 kB)\n",
      "Requirement already satisfied: idna<4,>=2.5 in c:\\users\\arjun\\appdata\\local\\programs\\python\\python39\\lib\\site-packages (from requests>=2.21.0->python-socketio[client]) (3.2)\n",
      "Requirement already satisfied: urllib3<1.27,>=1.21.1 in c:\\users\\arjun\\appdata\\local\\programs\\python\\python39\\lib\\site-packages (from requests>=2.21.0->python-socketio[client]) (1.26.6)\n",
      "Requirement already satisfied: certifi>=2017.4.17 in c:\\users\\arjun\\appdata\\local\\programs\\python\\python39\\lib\\site-packages (from requests>=2.21.0->python-socketio[client]) (2021.5.30)\n",
      "Requirement already satisfied: charset-normalizer~=2.0.0 in c:\\users\\arjun\\appdata\\local\\programs\\python\\python39\\lib\\site-packages (from requests>=2.21.0->python-socketio[client]) (2.0.4)\n",
      "Installing collected packages: websocket-client\n",
      "Successfully installed websocket-client-1.2.1\n"
     ]
    }
   ],
   "metadata": {}
  },
  {
   "cell_type": "code",
   "execution_count": 1,
   "source": [
    "import numpy as np\r\n",
    "import tensorflow as tf\r\n",
    "from tensorflow import keras\r\n",
    "\r\n",
    "from flask import Flask\r\n",
    "from flask_socketio import SocketIO, send, emit\r\n",
    "import socketio\r\n",
    "\r\n",
    "from typing import List\r\n",
    "\r\n",
    "from requests import get"
   ],
   "outputs": [],
   "metadata": {}
  },
  {
   "cell_type": "code",
   "execution_count": 2,
   "source": [
    "sio = socketio.Client()\r\n",
    "app = Flask(__name__)\r\n",
    "app.config['SECRET_KEY'] = 'secret!'\r\n",
    "socketio = SocketIO(app)\r\n",
    "\r\n",
    "computeNodes = [\"http://localhost:5001\", \"http://localhost:5002\"]\r\n",
    "#dispatchIP = get('https://api.ipify.org').text\r\n",
    "dispatchIP = \"http://localhost:5000\"\r\n",
    "print(\"DispatchIP:\", dispatchIP)"
   ],
   "outputs": [
    {
     "output_type": "stream",
     "name": "stdout",
     "text": [
      "DispatchIP: http://localhost:5000\n"
     ]
    }
   ],
   "metadata": {}
  },
  {
   "cell_type": "code",
   "execution_count": 3,
   "source": [
    "def partition(model: tf.keras.Model, partit: List[int]) -> tf.keras.Model:\r\n",
    "    #To slice properly, add the first and last layers to the partition list\r\n",
    "    partitions = [0]\r\n",
    "    partitions.extend(partit)\r\n",
    "    partitions.append(len(model.layers) - 1)\r\n",
    "    parts = []\r\n",
    "    for i in range(1, len(partitions)):\r\n",
    "        part = model.layers[partitions[i-1]:partitions[i]]\r\n",
    "        parts.append(part)\r\n",
    "    \r\n",
    "    models = []\r\n",
    "    for p in range(len(parts)):\r\n",
    "        if p == 0:\r\n",
    "            inpt = keras.Input(tensor=model.input)\r\n",
    "            print(inpt)\r\n",
    "        else:\r\n",
    "            inpt = keras.Input(tensor=models[p-1].output)\r\n",
    "        print(inpt)\r\n",
    "        print([layer.output for layer in parts[p]])\r\n",
    "        models.append(\r\n",
    "            keras.Model(\r\n",
    "                inputs=inpt,\r\n",
    "                outputs=[layer.output for layer in parts[p]]\r\n",
    "            )\r\n",
    "        )\r\n",
    "        print(models)\r\n",
    "    return models\r\n",
    "\r\n",
    "def dispatchModels(client, models: List[tf.keras.Model], nodeIPs: List[str]) -> None:\r\n",
    "    for i in range(len(models)):\r\n",
    "        model_json = models[i].to_json()\r\n",
    "        print(nodeIPs[i])\r\n",
    "        client.connect(nodeIPs[i], namespaces=['/recv_model'], auth={\"name\": \"dispatcher\"}, wait_timeout=5)\r\n",
    "        if i != len(models) - 1:\r\n",
    "            nextNode = nodeIPs[i + 1]\r\n",
    "        else:\r\n",
    "            # Reached the end of the nodes, the last node needs to point back to the dispatcher\r\n",
    "            nextNode = dispatchIP\r\n",
    "        \r\n",
    "        print(\"Reached emit\")\r\n",
    "        client.emit(\"dispatch\", data=(model_json, nextNode), namespace='/recv_model')\r\n",
    "        client.sleep(1)\r\n",
    "        print(\"Reached disconnect\")\r\n",
    "        client.disconnect()\r\n",
    "        print(client.connected)\r\n",
    "    \r\n",
    "    client.sleep(1)\r\n",
    "    client.connect(nodeIPs[0], namespaces=['/recv_data'], auth={\"name\": \"dispatcher\"}, wait_timeout=5)\r\n",
    "\r\n",
    "def startDistEdgeInference(client, model_input: tf.Tensor):\r\n",
    "    print(\"Starting inference\")\r\n",
    "    client.emit(\"data\", data=model_input.numpy().tolist(), namespace='/recv_data')"
   ],
   "outputs": [],
   "metadata": {}
  },
  {
   "cell_type": "code",
   "execution_count": 4,
   "source": [
    "in_list = [[1, 2], [3, 4], [5, 6]]\r\n",
    "inpt = tf.convert_to_tensor(in_list)\r\n",
    "\r\n",
    "layer_a = tf.keras.layers.Dense(3, kernel_initializer=tf.constant_initializer(1.))\r\n",
    "layer_b = tf.keras.layers.Dense(1, kernel_initializer=tf.constant_initializer(1.))\r\n",
    "layer_c = tf.keras.layers.Dense(2, kernel_initializer=tf.constant_initializer(1.))"
   ],
   "outputs": [],
   "metadata": {}
  },
  {
   "cell_type": "code",
   "execution_count": 5,
   "source": [
    "model = tf.keras.Sequential()\r\n",
    "model.add(layer_a)\r\n",
    "model.add(layer_b)\r\n",
    "model.add(layer_c)\r\n",
    "out = model(inpt)\r\n",
    "print(\"Local run: {}\".format(out))\r\n",
    "models_to_dispatch = partition(model, [1])"
   ],
   "outputs": [
    {
     "output_type": "stream",
     "name": "stdout",
     "text": [
      "Local run: [[ 9.  9.]\n",
      " [21. 21.]\n",
      " [33. 33.]]\n",
      "KerasTensor(type_spec=TensorSpec(shape=(3, 2), dtype=tf.int32, name='dense_input'), name='dense_input', description=\"created by layer 'input_1'\")\n",
      "KerasTensor(type_spec=TensorSpec(shape=(3, 2), dtype=tf.int32, name='dense_input'), name='dense_input', description=\"created by layer 'input_1'\")\n",
      "[<KerasTensor: shape=(3, 3) dtype=float32 (created by layer 'dense')>]\n",
      "[<keras.engine.functional.Functional object at 0x0000017C0F6E2160>]\n",
      "KerasTensor(type_spec=TensorSpec(shape=(3, 3), dtype=tf.float32, name=None), name='dense/BiasAdd:0', description=\"created by layer 'input_2'\")\n",
      "[<KerasTensor: shape=(3, 1) dtype=float32 (created by layer 'dense_1')>]\n",
      "[<keras.engine.functional.Functional object at 0x0000017C0F6E2160>, <keras.engine.functional.Functional object at 0x0000017C0F7701C0>]\n"
     ]
    }
   ],
   "metadata": {}
  },
  {
   "cell_type": "code",
   "execution_count": 6,
   "source": [
    "@socketio.on('data', namespace=\"/recv_data\")\r\n",
    "def got_result(data):\r\n",
    "    print(\"Done distributing, result is {}\".format(data))\r\n",
    "\r\n",
    "@socketio.on('connect', namespace=\"/recv_data\")\r\n",
    "def connect():\r\n",
    "    print(\"Previous node connected\")"
   ],
   "outputs": [],
   "metadata": {}
  },
  {
   "cell_type": "code",
   "execution_count": 7,
   "source": [
    "if __name__ == '__main__':\r\n",
    "    dispatchModels(sio, models_to_dispatch, computeNodes)\r\n",
    "    startDistEdgeInference(sio, inpt)\r\n",
    "    socketio.run(app, port=5000)"
   ],
   "outputs": [
    {
     "output_type": "stream",
     "name": "stdout",
     "text": [
      "http://localhost:5001\n",
      "Reached emit\n",
      "Reached disconnect\n",
      "False\n",
      "http://localhost:5002\n"
     ]
    },
    {
     "output_type": "stream",
     "name": "stderr",
     "text": [
      "Exception in thread Thread-6:\n",
      "Traceback (most recent call last):\n",
      "  File \"C:\\Users\\arjun\\AppData\\Local\\Programs\\Python\\Python39\\lib\\threading.py\", line 973, in _bootstrap_inner\n",
      "    self.run()\n",
      "  File \"C:\\Users\\arjun\\AppData\\Local\\Programs\\Python\\Python39\\lib\\threading.py\", line 910, in run\n",
      "    self._target(*self._args, **self._kwargs)\n",
      "  File \"C:\\Users\\arjun\\AppData\\Local\\Programs\\Python\\Python39\\lib\\site-packages\\engineio\\client.py\", line 685, in _write_loop\n",
      "    self.queue.task_done()\n",
      "  File \"C:\\Users\\arjun\\AppData\\Local\\Programs\\Python\\Python39\\lib\\queue.py\", line 75, in task_done\n",
      "    raise ValueError('task_done() called too many times')\n",
      "ValueError: task_done() called too many times\n"
     ]
    },
    {
     "output_type": "stream",
     "name": "stdout",
     "text": [
      "Reached emit\n",
      "Reached disconnect\n",
      "False\n"
     ]
    },
    {
     "output_type": "stream",
     "name": "stderr",
     "text": [
      "Exception in thread Thread-9:\n",
      "Traceback (most recent call last):\n",
      "  File \"C:\\Users\\arjun\\AppData\\Local\\Programs\\Python\\Python39\\lib\\threading.py\", line 973, in _bootstrap_inner\n",
      "    self.run()\n",
      "  File \"C:\\Users\\arjun\\AppData\\Local\\Programs\\Python\\Python39\\lib\\threading.py\", line 910, in run\n",
      "    self._target(*self._args, **self._kwargs)\n",
      "  File \"C:\\Users\\arjun\\AppData\\Local\\Programs\\Python\\Python39\\lib\\site-packages\\engineio\\client.py\", line 685, in _write_loop\n",
      "    self.queue.task_done()\n",
      "  File \"C:\\Users\\arjun\\AppData\\Local\\Programs\\Python\\Python39\\lib\\queue.py\", line 75, in task_done\n",
      "    raise ValueError('task_done() called too many times')\n",
      "ValueError: task_done() called too many times\n",
      "WebSocket transport not available. Install simple-websocket for improved performance.\n"
     ]
    },
    {
     "output_type": "stream",
     "name": "stdout",
     "text": [
      " * Serving Flask app '__main__' (lazy loading)\n",
      " * Environment: production\n",
      "\u001b[31m   WARNING: This is a development server. Do not use it in a production deployment.\u001b[0m\n",
      "\u001b[2m   Use a production WSGI server instead.\u001b[0m\n",
      " * Debug mode: off\n"
     ]
    },
    {
     "output_type": "stream",
     "name": "stderr",
     "text": [
      " * Running on http://127.0.0.1:5000/ (Press CTRL+C to quit)\n",
      "The WebSocket transport is not available, you must install a WebSocket server that is compatible with your async mode to enable it. See the documentation for details. (further occurrences of this error will be logged with level INFO)\n",
      "127.0.0.1 - - [15/Sep/2021 17:07:20] \"GET /socket.io/?transport=polling&EIO=4&t=1631750836.1289923 HTTP/1.1\" 200 -\n",
      "127.0.0.1 - - [15/Sep/2021 17:07:22] \"POST /socket.io/?transport=polling&EIO=4&sid=RrJsvictq6GGL-6YAAAA HTTP/1.1\" 200 -\n",
      "127.0.0.1 - - [15/Sep/2021 17:07:22] \"GET /socket.io/?transport=polling&EIO=4&sid=RrJsvictq6GGL-6YAAAA&t=1631750840.2613733 HTTP/1.1\" 200 -\n"
     ]
    },
    {
     "output_type": "stream",
     "name": "stdout",
     "text": [
      "Previous node connected\n"
     ]
    }
   ],
   "metadata": {}
  }
 ],
 "metadata": {
  "interpreter": {
   "hash": "59ed7c0dcce09a926481e680eb6da94b94bea066b72bd69f5cd6857d231e2455"
  },
  "kernelspec": {
   "name": "python3",
   "display_name": "Python 3.9.6 64-bit"
  },
  "language_info": {
   "codemirror_mode": {
    "name": "ipython",
    "version": 3
   },
   "file_extension": ".py",
   "mimetype": "text/x-python",
   "name": "python",
   "nbconvert_exporter": "python",
   "pygments_lexer": "ipython3",
   "version": "3.9.6"
  },
  "orig_nbformat": 2
 },
 "nbformat": 4,
 "nbformat_minor": 2
}