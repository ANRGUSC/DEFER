{
 "cells": [
  {
   "cell_type": "code",
   "execution_count": 1,
   "source": [
    "#!pip install flask\r\n",
    "#!pip install numpy\r\n",
    "#!pip install tensorflow\r\n",
    "#!pip install flask-socketio\r\n",
    "#!pip install \"python-socketio[async_client]\"\r\n",
    "#!pip install simple-websocket"
   ],
   "outputs": [],
   "metadata": {}
  },
  {
   "cell_type": "code",
   "execution_count": 2,
   "source": [
    "import numpy as np\r\n",
    "import tensorflow as tf\r\n",
    "from tensorflow import keras\r\n",
    "\r\n",
    "from flask import Flask\r\n",
    "from flask_socketio import SocketIO, send, emit\r\n",
    "import socketio\r\n",
    "import asyncio\r\n",
    "\r\n",
    "from typing import List\r\n",
    "\r\n",
    "from requests import get"
   ],
   "outputs": [],
   "metadata": {}
  },
  {
   "cell_type": "code",
   "execution_count": 3,
   "source": [
    "#sio = socketio.AsyncClient(logger=True, engineio_logger=True)\r\n",
    "cli = socketio.Client(logger=True, engineio_logger=True)\r\n",
    "app = Flask(__name__)\r\n",
    "app.config['SECRET_KEY'] = 'secret!'\r\n",
    "server = SocketIO(app, logger=True)\r\n",
    "\r\n",
    "computeNodes = [\"http://127.0.0.1:5001/\", \"http://127.0.0.1:5002/\"]\r\n",
    "#dispatchIP = get('https://api.ipify.org').text\r\n",
    "dispatchIP = \"http://127.0.0.1:5000/\"\r\n",
    "print(\"DispatchIP:\", dispatchIP)"
   ],
   "outputs": [
    {
     "output_type": "stream",
     "name": "stdout",
     "text": [
      "DispatchIP: http://127.0.0.1:5000/\n"
     ]
    }
   ],
   "metadata": {}
  },
  {
   "cell_type": "code",
   "execution_count": 4,
   "source": [
    "def partition(model: tf.keras.Model, partit: List[int]) -> tf.keras.Model:\r\n",
    "    #To slice properly, add the first and last layers to the partition list\r\n",
    "    partitions = [0]\r\n",
    "    partitions.extend(partit)\r\n",
    "    partitions.append(len(model.layers) - 1)\r\n",
    "    parts = []\r\n",
    "    for i in range(1, len(partitions)):\r\n",
    "        part = model.layers[partitions[i-1]:partitions[i]]\r\n",
    "        parts.append(part)\r\n",
    "    \r\n",
    "    models = []\r\n",
    "    for p in range(len(parts)):\r\n",
    "        if p == 0:\r\n",
    "            inpt = keras.Input(tensor=model.input)\r\n",
    "            print(inpt)\r\n",
    "        else:\r\n",
    "            inpt = keras.Input(tensor=models[p-1].output)\r\n",
    "        print(inpt)\r\n",
    "        print([layer.output for layer in parts[p]])\r\n",
    "        models.append(\r\n",
    "            keras.Model(\r\n",
    "                inputs=inpt,\r\n",
    "                outputs=[layer.output for layer in parts[p]]\r\n",
    "            )\r\n",
    "        )\r\n",
    "        print(models)\r\n",
    "    return models\r\n",
    "\r\n",
    "async def dispatchModels(models: List[tf.keras.Model], nodeIPs: List[str]) -> None:\r\n",
    "    for i in range(len(models)):\r\n",
    "        client = socketio.AsyncClient(logger=True, engineio_logger=True)\r\n",
    "        model_json = models[i].to_json()\r\n",
    "        print(nodeIPs[i])\r\n",
    "        await client.connect(nodeIPs[i], namespaces=['/recv_model'], auth={\"name\": \"dispatcher\"})\r\n",
    "        if i != len(models) - 1:\r\n",
    "            nextNode = nodeIPs[i + 1]\r\n",
    "        else:\r\n",
    "            # Reached the end of the nodes, the last node needs to point back to the dispatcher\r\n",
    "            nextNode = dispatchIP\r\n",
    "        \r\n",
    "        print(\"Reached emit\")\r\n",
    "        await client.emit(\"dispatch\", data=(model_json, nextNode), namespace='/recv_model')\r\n",
    "    await client.sleep(2)\r\n",
    "\r\n",
    "def startDistEdgeInference(client, model_input: tf.Tensor, send_to: str):\r\n",
    "    print(\"Starting inference\")\r\n",
    "    client.connect(send_to, namespaces=['/recv_data'])\r\n",
    "    client.emit(\"data\", data=model_input.numpy().tolist(), namespace='/recv_data')"
   ],
   "outputs": [],
   "metadata": {}
  },
  {
   "cell_type": "code",
   "execution_count": 5,
   "source": [
    "in_list = [[1, 2], [3, 4], [5, 6]]\r\n",
    "inpt = tf.convert_to_tensor(in_list)\r\n",
    "\r\n",
    "layer_a = tf.keras.layers.Dense(3, kernel_initializer=tf.constant_initializer(1.))\r\n",
    "layer_b = tf.keras.layers.Dense(1, kernel_initializer=tf.constant_initializer(1.))\r\n",
    "layer_c = tf.keras.layers.Dense(2, kernel_initializer=tf.constant_initializer(1.))"
   ],
   "outputs": [],
   "metadata": {}
  },
  {
   "cell_type": "code",
   "execution_count": 6,
   "source": [
    "model = tf.keras.Sequential()\r\n",
    "model.add(layer_a)\r\n",
    "model.add(layer_b)\r\n",
    "model.add(layer_c)\r\n",
    "out = model(inpt)\r\n",
    "print(\"Local run: {}\".format(out))\r\n",
    "models_to_dispatch = partition(model, [1])"
   ],
   "outputs": [
    {
     "output_type": "stream",
     "name": "stdout",
     "text": [
      "Local run: [[ 9.  9.]\n",
      " [21. 21.]\n",
      " [33. 33.]]\n",
      "KerasTensor(type_spec=TensorSpec(shape=(3, 2), dtype=tf.int32, name='dense_input'), name='dense_input', description=\"created by layer 'input_1'\")\n",
      "KerasTensor(type_spec=TensorSpec(shape=(3, 2), dtype=tf.int32, name='dense_input'), name='dense_input', description=\"created by layer 'input_1'\")\n",
      "[<KerasTensor: shape=(3, 3) dtype=float32 (created by layer 'dense')>]\n",
      "[<keras.engine.functional.Functional object at 0x000001882079A970>]\n",
      "KerasTensor(type_spec=TensorSpec(shape=(3, 3), dtype=tf.float32, name=None), name='dense/BiasAdd:0', description=\"created by layer 'input_2'\")\n",
      "[<KerasTensor: shape=(3, 1) dtype=float32 (created by layer 'dense_1')>]\n",
      "[<keras.engine.functional.Functional object at 0x000001882079A970>, <keras.engine.functional.Functional object at 0x00000188207FB9A0>]\n"
     ]
    }
   ],
   "metadata": {}
  },
  {
   "cell_type": "code",
   "execution_count": 7,
   "source": [
    "@server.on('data', namespace=\"/recv_data\")\r\n",
    "def got_result(data):\r\n",
    "    print(\"Done distributing, result is {}\".format(data))\r\n",
    "\r\n",
    "@server.on('connect', namespace=\"/recv_data\")\r\n",
    "def data_connect():\r\n",
    "    print(\"Previous node connected\")\r\n",
    "    startDistEdgeInference(cli, inpt, computeNodes[0])"
   ],
   "outputs": [],
   "metadata": {}
  },
  {
   "cell_type": "code",
   "execution_count": 8,
   "source": [
    "async def main():\r\n",
    "    await dispatchModels(models_to_dispatch, computeNodes)\r\n",
    "    #await startDistEdgeInference(sio, inpt, computeNodes[0])"
   ],
   "outputs": [],
   "metadata": {}
  },
  {
   "cell_type": "code",
   "execution_count": 9,
   "source": [
    "if __name__ == '__main__':\r\n",
    "    await main()\r\n",
    "    server.run(app, debug=True, port=5000, use_reloader=False)"
   ],
   "outputs": [
    {
     "output_type": "stream",
     "name": "stderr",
     "text": [
      "Signal handler is unsupported\n",
      "Attempting polling connection to http://127.0.0.1:5001/socket.io/?transport=polling&EIO=4\n",
      "Polling connection accepted with {'sid': 'vMczZ05sacIllQWjAAAA', 'upgrades': ['websocket'], 'pingTimeout': 20000, 'pingInterval': 25000}\n",
      "Engine.IO connection established\n",
      "Sending packet MESSAGE data 0/recv_model,{\"name\":\"dispatcher\"}\n",
      "Attempting WebSocket upgrade to ws://127.0.0.1:5001/socket.io/?transport=websocket&EIO=4\n",
      "WebSocket upgrade was successful\n",
      "Received packet NOOP data \n",
      "Received packet MESSAGE data 0/recv_model,{\"sid\":\"BzTVokXOrQlRWsqRAAAB\"}\n",
      "Namespace /recv_model is connected\n",
      "Emitting event \"dispatch\" [/recv_model]\n",
      "Sending packet MESSAGE data 2/recv_model,[\"dispatch\",\"{\\\"class_name\\\": \\\"Functional\\\", \\\"config\\\": {\\\"name\\\": \\\"model\\\", \\\"layers\\\": [{\\\"class_name\\\": \\\"InputLayer\\\", \\\"config\\\": {\\\"batch_input_shape\\\": [3, 2], \\\"dtype\\\": \\\"int32\\\", \\\"sparse\\\": false, \\\"ragged\\\": false, \\\"name\\\": \\\"input_1\\\"}, \\\"name\\\": \\\"input_1\\\", \\\"inbound_nodes\\\": []}, {\\\"class_name\\\": \\\"Dense\\\", \\\"config\\\": {\\\"name\\\": \\\"dense\\\", \\\"trainable\\\": true, \\\"dtype\\\": \\\"float32\\\", \\\"units\\\": 3, \\\"activation\\\": \\\"linear\\\", \\\"use_bias\\\": true, \\\"kernel_initializer\\\": {\\\"class_name\\\": \\\"Constant\\\", \\\"config\\\": {\\\"value\\\": 1.0}}, \\\"bias_initializer\\\": {\\\"class_name\\\": \\\"Zeros\\\", \\\"config\\\": {}}, \\\"kernel_regularizer\\\": null, \\\"bias_regularizer\\\": null, \\\"activity_regularizer\\\": null, \\\"kernel_constraint\\\": null, \\\"bias_constraint\\\": null}, \\\"name\\\": \\\"dense\\\", \\\"inbound_nodes\\\": [[[\\\"input_1\\\", 0, 0, {}]]]}], \\\"input_layers\\\": [[\\\"input_1\\\", 0, 0]], \\\"output_layers\\\": [[\\\"dense\\\", 0, 0]]}, \\\"keras_version\\\": \\\"2.6.0\\\", \\\"backend\\\": \\\"tensorflow\\\"}\",\"http://127.0.0.1:5002/\"]\n",
      "Signal handler is unsupported\n",
      "Attempting polling connection to http://127.0.0.1:5002/socket.io/?transport=polling&EIO=4\n",
      "Polling connection accepted with {'sid': '-qBWf6weTvGbp7x9AAAA', 'upgrades': ['websocket'], 'pingTimeout': 20000, 'pingInterval': 25000}\n",
      "Engine.IO connection established\n",
      "Sending packet MESSAGE data 0/recv_model,{\"name\":\"dispatcher\"}\n",
      "Attempting WebSocket upgrade to ws://127.0.0.1:5002/socket.io/?transport=websocket&EIO=4\n",
      "WebSocket upgrade was successful\n"
     ]
    },
    {
     "output_type": "stream",
     "name": "stdout",
     "text": [
      "http://127.0.0.1:5001/\n",
      "Reached emit\n",
      "http://127.0.0.1:5002/\n"
     ]
    },
    {
     "output_type": "stream",
     "name": "stderr",
     "text": [
      "Received packet NOOP data \n",
      "Received packet MESSAGE data 0/recv_model,{\"sid\":\"6l1lO-7c30D9jFDrAAAB\"}\n",
      "Namespace /recv_model is connected\n",
      "Emitting event \"dispatch\" [/recv_model]\n",
      "Sending packet MESSAGE data 2/recv_model,[\"dispatch\",\"{\\\"class_name\\\": \\\"Functional\\\", \\\"config\\\": {\\\"name\\\": \\\"model_1\\\", \\\"layers\\\": [{\\\"class_name\\\": \\\"InputLayer\\\", \\\"config\\\": {\\\"batch_input_shape\\\": [3, 3], \\\"dtype\\\": \\\"float32\\\", \\\"sparse\\\": false, \\\"ragged\\\": false, \\\"name\\\": \\\"input_2\\\"}, \\\"name\\\": \\\"input_2\\\", \\\"inbound_nodes\\\": []}, {\\\"class_name\\\": \\\"Dense\\\", \\\"config\\\": {\\\"name\\\": \\\"dense_1\\\", \\\"trainable\\\": true, \\\"dtype\\\": \\\"float32\\\", \\\"units\\\": 1, \\\"activation\\\": \\\"linear\\\", \\\"use_bias\\\": true, \\\"kernel_initializer\\\": {\\\"class_name\\\": \\\"Constant\\\", \\\"config\\\": {\\\"value\\\": 1.0}}, \\\"bias_initializer\\\": {\\\"class_name\\\": \\\"Zeros\\\", \\\"config\\\": {}}, \\\"kernel_regularizer\\\": null, \\\"bias_regularizer\\\": null, \\\"activity_regularizer\\\": null, \\\"kernel_constraint\\\": null, \\\"bias_constraint\\\": null}, \\\"name\\\": \\\"dense_1\\\", \\\"inbound_nodes\\\": [[[\\\"input_2\\\", 0, 0, {}]]]}], \\\"input_layers\\\": [[\\\"input_2\\\", 0, 0]], \\\"output_layers\\\": [[\\\"dense_1\\\", 0, 0]]}, \\\"keras_version\\\": \\\"2.6.0\\\", \\\"backend\\\": \\\"tensorflow\\\"}\",\"http://127.0.0.1:5000/\"]\n"
     ]
    },
    {
     "output_type": "stream",
     "name": "stdout",
     "text": [
      "Reached emit\n",
      " * Serving Flask app '__main__' (lazy loading)\n",
      " * Environment: production\n",
      "\u001b[31m   WARNING: This is a development server. Do not use it in a production deployment.\u001b[0m\n",
      "\u001b[2m   Use a production WSGI server instead.\u001b[0m\n",
      " * Debug mode: on\n"
     ]
    },
    {
     "output_type": "stream",
     "name": "stderr",
     "text": [
      " * Running on http://127.0.0.1:5000/ (Press CTRL+C to quit)\n",
      "127.0.0.1 - - [26/Sep/2021 23:58:50] \"GET /socket.io/?transport=polling&EIO=4&t=1632725928.6653295 HTTP/1.1\" 200 -\n",
      "Attempting polling connection to http://127.0.0.1:5001/socket.io/?transport=polling&EIO=4\n",
      "Polling connection accepted with {'sid': 'huNLflh9BmomUPrJAAAC', 'upgrades': ['websocket'], 'pingTimeout': 20000, 'pingInterval': 25000}\n",
      "Engine.IO connection established\n",
      "Sending packet MESSAGE data 0/recv_data,\n",
      "Attempting WebSocket upgrade to ws://127.0.0.1:5001/socket.io/?transport=websocket&EIO=4\n",
      "WebSocket upgrade was successful\n",
      "Received packet NOOP data \n",
      "Received packet MESSAGE data 0/recv_data,{\"sid\":\"Jv_Fle3t-fIR1422AAAD\"}\n",
      "Namespace /recv_data is connected\n",
      "Emitting event \"data\" [/recv_data]\n",
      "Sending packet MESSAGE data 2/recv_data,[\"data\",[[1,2],[3,4],[5,6]]]\n",
      "received event \"data\" from VIpPzdI2GnCanvQNAAAB [/recv_data]\n"
     ]
    },
    {
     "output_type": "stream",
     "name": "stdout",
     "text": [
      "Previous node connected\n",
      "Starting inference\n",
      "Done distributing, result is [[9.0], [21.0], [33.0]]\n"
     ]
    },
    {
     "output_type": "stream",
     "name": "stderr",
     "text": [
      "Received packet PING data \n",
      "Sending packet PONG data \n"
     ]
    }
   ],
   "metadata": {}
  }
 ],
 "metadata": {
  "interpreter": {
   "hash": "59ed7c0dcce09a926481e680eb6da94b94bea066b72bd69f5cd6857d231e2455"
  },
  "kernelspec": {
   "name": "python3",
   "display_name": "Python 3.9.6 64-bit"
  },
  "language_info": {
   "codemirror_mode": {
    "name": "ipython",
    "version": 3
   },
   "file_extension": ".py",
   "mimetype": "text/x-python",
   "name": "python",
   "nbconvert_exporter": "python",
   "pygments_lexer": "ipython3",
   "version": "3.9.6"
  },
  "orig_nbformat": 2
 },
 "nbformat": 4,
 "nbformat_minor": 2
}