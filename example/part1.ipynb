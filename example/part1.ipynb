{
 "cells": [
  {
   "cell_type": "code",
   "execution_count": 1,
   "source": [
    "import numpy as np\r\n",
    "import tensorflow as tf\r\n",
    "from tensorflow import keras\r\n",
    "\r\n",
    "import socketio\r\n",
    "import asyncio\r\n",
    "\r\n",
    "from flask import Flask\r\n",
    "from flask_socketio import SocketIO, send, emit"
   ],
   "outputs": [],
   "metadata": {}
  },
  {
   "cell_type": "code",
   "execution_count": 2,
   "source": [
    "sio = socketio.Client()\r\n",
    "\r\n",
    "app = Flask(__name__)\r\n",
    "app.config['SECRET_KEY'] = 'secret!'\r\n",
    "socketio = SocketIO(app)"
   ],
   "outputs": [],
   "metadata": {}
  },
  {
   "cell_type": "code",
   "execution_count": 3,
   "source": [
    "@socketio.on('data', namespace=\"/recv_data\")\r\n",
    "async def got_data(data):\r\n",
    "    print(\"Received data in part1\")\r\n",
    "    inpt = tf.convert_to_tensor(data)\r\n",
    "    out = model(inpt).numpy().tolist()\r\n",
    "    sio.emit('data', data=out, namespace=\"/recv_data\")\r\n",
    "\r\n",
    "@socketio.on('connect', namespace=\"/recv_model\")\r\n",
    "def connect(auth):\r\n",
    "    print(\"Dispatcher Connected, auth:\", auth[\"name\"])\r\n",
    "\r\n",
    "@socketio.on('connect', namespace=\"/recv_data\")\r\n",
    "def connect():\r\n",
    "    print(\"Previous node connected\")\r\n",
    "\r\n",
    "@socketio.on('dispatch', namespace=\"/recv_model\")\r\n",
    "def recv_model(model_json, next_node):\r\n",
    "    global model\r\n",
    "    print(model_json)\r\n",
    "    model = tf.keras.models.model_from_json(model_json)\r\n",
    "    #model.save(\"models/part1\")\r\n",
    "    sio.connect(next_node, namespaces=['/recv_data'])"
   ],
   "outputs": [],
   "metadata": {}
  },
  {
   "cell_type": "code",
   "execution_count": 4,
   "source": [
    "if __name__ == '__main__':\r\n",
    "    socketio.run(app, port=5001)"
   ],
   "outputs": [
    {
     "output_type": "stream",
     "name": "stderr",
     "text": [
      "WebSocket transport not available. Install simple-websocket for improved performance.\n"
     ]
    },
    {
     "output_type": "stream",
     "name": "stdout",
     "text": [
      " * Serving Flask app '__main__' (lazy loading)\n",
      " * Environment: production\n",
      "\u001b[31m   WARNING: This is a development server. Do not use it in a production deployment.\u001b[0m\n",
      "\u001b[2m   Use a production WSGI server instead.\u001b[0m\n",
      " * Debug mode: off\n"
     ]
    },
    {
     "output_type": "stream",
     "name": "stderr",
     "text": [
      " * Running on http://127.0.0.1:5001/ (Press CTRL+C to quit)\n",
      "The WebSocket transport is not available, you must install a WebSocket server that is compatible with your async mode to enable it. See the documentation for details. (further occurrences of this error will be logged with level INFO)\n",
      "127.0.0.1 - - [15/Sep/2021 17:07:06] \"GET /socket.io/?transport=polling&EIO=4&t=1631750824.3091724 HTTP/1.1\" 200 -\n",
      "127.0.0.1 - - [15/Sep/2021 17:07:08] \"POST /socket.io/?transport=polling&EIO=4&sid=vxlLH42mvRI0wbB5AAAA HTTP/1.1\" 200 -\n",
      "127.0.0.1 - - [15/Sep/2021 17:07:08] \"GET /socket.io/?transport=polling&EIO=4&sid=vxlLH42mvRI0wbB5AAAA&t=1631750826.4095175 HTTP/1.1\" 200 -\n"
     ]
    },
    {
     "output_type": "stream",
     "name": "stdout",
     "text": [
      "Dispatcher Connected, auth: dispatcher\n"
     ]
    },
    {
     "output_type": "stream",
     "name": "stderr",
     "text": [
      "127.0.0.1 - - [15/Sep/2021 17:07:10] \"POST /socket.io/?transport=polling&EIO=4&sid=vxlLH42mvRI0wbB5AAAA HTTP/1.1\" 200 -\n"
     ]
    },
    {
     "output_type": "stream",
     "name": "stdout",
     "text": [
      "{\"class_name\": \"Functional\", \"config\": {\"name\": \"model\", \"layers\": [{\"class_name\": \"InputLayer\", \"config\": {\"batch_input_shape\": [3, 2], \"dtype\": \"int32\", \"sparse\": false, \"ragged\": false, \"name\": \"input_1\"}, \"name\": \"input_1\", \"inbound_nodes\": []}, {\"class_name\": \"Dense\", \"config\": {\"name\": \"dense\", \"trainable\": true, \"dtype\": \"float32\", \"units\": 3, \"activation\": \"linear\", \"use_bias\": true, \"kernel_initializer\": {\"class_name\": \"Constant\", \"config\": {\"value\": 1.0}}, \"bias_initializer\": {\"class_name\": \"Zeros\", \"config\": {}}, \"kernel_regularizer\": null, \"bias_regularizer\": null, \"activity_regularizer\": null, \"kernel_constraint\": null, \"bias_constraint\": null}, \"name\": \"dense\", \"inbound_nodes\": [[[\"input_1\", 0, 0, {}]]]}], \"input_layers\": [[\"input_1\", 0, 0]], \"output_layers\": [[\"dense\", 0, 0]]}, \"keras_version\": \"2.6.0\", \"backend\": \"tensorflow\"}\n"
     ]
    },
    {
     "output_type": "stream",
     "name": "stderr",
     "text": [
      "Exception in thread Thread-13:\n",
      "Traceback (most recent call last):\n",
      "  File \"C:\\Users\\arjun\\AppData\\Local\\Programs\\Python\\Python39\\lib\\threading.py\", line 973, in _bootstrap_inner\n",
      "    self.run()\n",
      "  File \"C:\\Users\\arjun\\AppData\\Local\\Programs\\Python\\Python39\\lib\\threading.py\", line 910, in run\n",
      "    self._target(*self._args, **self._kwargs)\n",
      "  File \"C:\\Users\\arjun\\AppData\\Local\\Programs\\Python\\Python39\\lib\\site-packages\\socketio\\server.py\", line 712, in _handle_event_internal\n",
      "    r = server._trigger_event(data[0], namespace, sid, *data[1:])\n",
      "  File \"C:\\Users\\arjun\\AppData\\Local\\Programs\\Python\\Python39\\lib\\site-packages\\socketio\\server.py\", line 736, in _trigger_event\n",
      "    return self.handlers[namespace][event](*args)\n",
      "  File \"C:\\Users\\arjun\\AppData\\Local\\Programs\\Python\\Python39\\lib\\site-packages\\flask_socketio\\__init__.py\", line 282, in _handler\n",
      "    return self._handle_event(handler, message, namespace, sid,\n",
      "  File \"C:\\Users\\arjun\\AppData\\Local\\Programs\\Python\\Python39\\lib\\site-packages\\flask_socketio\\__init__.py\", line 766, in _handle_event\n",
      "    ret = handler(*args)\n",
      "  File \"C:\\Users\\arjun\\AppData\\Local\\Temp/ipykernel_53692/3532598509.py\", line 22, in recv_model\n",
      "  File \"C:\\Users\\arjun\\AppData\\Local\\Programs\\Python\\Python39\\lib\\site-packages\\socketio\\client.py\", line 338, in connect\n",
      "    raise exceptions.ConnectionError(\n",
      "socketio.exceptions.ConnectionError: One or more namespaces failed to connect\n",
      "127.0.0.1 - - [15/Sep/2021 17:07:17] \"GET /socket.io/?transport=polling&EIO=4&t=1631750835.6282966 HTTP/1.1\" 200 -\n",
      "127.0.0.1 - - [15/Sep/2021 17:07:19] \"POST /socket.io/?transport=polling&EIO=4&sid=doNkpG7LwMgEjRskAAAC HTTP/1.1\" 200 -\n",
      "127.0.0.1 - - [15/Sep/2021 17:07:19] \"GET /socket.io/?transport=polling&EIO=4&sid=doNkpG7LwMgEjRskAAAC&t=1631750837.7093441 HTTP/1.1\" 200 -\n"
     ]
    },
    {
     "output_type": "stream",
     "name": "stdout",
     "text": [
      "Previous node connected\n"
     ]
    },
    {
     "output_type": "stream",
     "name": "stderr",
     "text": [
      "127.0.0.1 - - [15/Sep/2021 17:07:21] \"POST /socket.io/?transport=polling&EIO=4&sid=doNkpG7LwMgEjRskAAAC HTTP/1.1\" 200 -\n",
      "127.0.0.1 - - [15/Sep/2021 17:07:31] \"GET /socket.io/?transport=polling&EIO=4&sid=vxlLH42mvRI0wbB5AAAA&t=1631750828.4795856 HTTP/1.1\" 200 -\n",
      "127.0.0.1 - - [15/Sep/2021 17:07:33] \"POST /socket.io/?transport=polling&EIO=4&sid=doNkpG7LwMgEjRskAAAC HTTP/1.1\" 200 -\n",
      "127.0.0.1 - - [15/Sep/2021 17:07:38] \"POST /socket.io/?transport=polling&EIO=4&sid=doNkpG7LwMgEjRskAAAC HTTP/1.1\" 200 -\n",
      "127.0.0.1 - - [15/Sep/2021 17:07:42] \"GET /socket.io/?transport=polling&EIO=4&sid=doNkpG7LwMgEjRskAAAC&t=1631750839.8059137 HTTP/1.1\" 200 -\n",
      "127.0.0.1 - - [15/Sep/2021 17:07:44] \"POST /socket.io/?transport=polling&EIO=4&sid=doNkpG7LwMgEjRskAAAC HTTP/1.1\" 200 -\n",
      "127.0.0.1 - - [15/Sep/2021 17:07:58] \"GET /socket.io/?transport=polling&EIO=4&sid=doNkpG7LwMgEjRskAAAC&t=1631750851.4103754 HTTP/1.1\" 200 -\n",
      "C:\\Users\\arjun\\AppData\\Local\\Programs\\Python\\Python39\\lib\\threading.py:542: RuntimeWarning: coroutine 'got_data' was never awaited\n",
      "  with self._cond:\n",
      "RuntimeWarning: Enable tracemalloc to get the object allocation traceback\n",
      "127.0.0.1 - - [15/Sep/2021 17:08:00] \"POST /socket.io/?transport=polling&EIO=4&sid=doNkpG7LwMgEjRskAAAC HTTP/1.1\" 200 -\n",
      "127.0.0.1 - - [15/Sep/2021 17:08:03] \"GET /socket.io/?transport=polling&EIO=4&sid=doNkpG7LwMgEjRskAAAC&t=1631750856.5941203 HTTP/1.1\" 200 -\n",
      "127.0.0.1 - - [15/Sep/2021 17:08:05] \"POST /socket.io/?transport=polling&EIO=4&sid=doNkpG7LwMgEjRskAAAC HTTP/1.1\" 200 -\n",
      "127.0.0.1 - - [15/Sep/2021 17:08:09] \"GET /socket.io/?transport=polling&EIO=4&sid=doNkpG7LwMgEjRskAAAC&t=1631750862.7111378 HTTP/1.1\" 200 -\n",
      "127.0.0.1 - - [15/Sep/2021 17:08:11] \"POST /socket.io/?transport=polling&EIO=4&sid=doNkpG7LwMgEjRskAAAC HTTP/1.1\" 200 -\n",
      "127.0.0.1 - - [15/Sep/2021 17:08:25] \"GET /socket.io/?transport=polling&EIO=4&sid=doNkpG7LwMgEjRskAAAC&t=1631750878.446824 HTTP/1.1\" 200 -\n",
      "127.0.0.1 - - [15/Sep/2021 17:08:27] \"POST /socket.io/?transport=polling&EIO=4&sid=doNkpG7LwMgEjRskAAAC HTTP/1.1\" 200 -\n",
      "127.0.0.1 - - [15/Sep/2021 17:08:30] \"GET /socket.io/?transport=polling&EIO=4&sid=doNkpG7LwMgEjRskAAAC&t=1631750883.6631017 HTTP/1.1\" 200 -\n",
      "127.0.0.1 - - [15/Sep/2021 17:08:32] \"POST /socket.io/?transport=polling&EIO=4&sid=doNkpG7LwMgEjRskAAAC HTTP/1.1\" 200 -\n",
      "127.0.0.1 - - [15/Sep/2021 17:08:36] \"GET /socket.io/?transport=polling&EIO=4&sid=doNkpG7LwMgEjRskAAAC&t=1631750889.7762144 HTTP/1.1\" 200 -\n",
      "127.0.0.1 - - [15/Sep/2021 17:08:38] \"POST /socket.io/?transport=polling&EIO=4&sid=doNkpG7LwMgEjRskAAAC HTTP/1.1\" 200 -\n",
      "127.0.0.1 - - [15/Sep/2021 17:08:52] \"GET /socket.io/?transport=polling&EIO=4&sid=doNkpG7LwMgEjRskAAAC&t=1631750905.4917142 HTTP/1.1\" 200 -\n",
      "127.0.0.1 - - [15/Sep/2021 17:08:54] \"POST /socket.io/?transport=polling&EIO=4&sid=doNkpG7LwMgEjRskAAAC HTTP/1.1\" 200 -\n",
      "127.0.0.1 - - [15/Sep/2021 17:08:57] \"GET /socket.io/?transport=polling&EIO=4&sid=doNkpG7LwMgEjRskAAAC&t=1631750910.7347517 HTTP/1.1\" 200 -\n",
      "127.0.0.1 - - [15/Sep/2021 17:08:59] \"POST /socket.io/?transport=polling&EIO=4&sid=doNkpG7LwMgEjRskAAAC HTTP/1.1\" 200 -\n",
      "127.0.0.1 - - [15/Sep/2021 17:09:03] \"GET /socket.io/?transport=polling&EIO=4&sid=doNkpG7LwMgEjRskAAAC&t=1631750916.8713152 HTTP/1.1\" 200 -\n",
      "127.0.0.1 - - [15/Sep/2021 17:09:06] \"POST /socket.io/?transport=polling&EIO=4&sid=doNkpG7LwMgEjRskAAAC HTTP/1.1\" 200 -\n",
      "127.0.0.1 - - [15/Sep/2021 17:09:19] \"GET /socket.io/?transport=polling&EIO=4&sid=doNkpG7LwMgEjRskAAAC&t=1631750932.5509474 HTTP/1.1\" 200 -\n",
      "127.0.0.1 - - [15/Sep/2021 17:09:21] \"POST /socket.io/?transport=polling&EIO=4&sid=doNkpG7LwMgEjRskAAAC HTTP/1.1\" 200 -\n",
      "127.0.0.1 - - [15/Sep/2021 17:09:24] \"GET /socket.io/?transport=polling&EIO=4&sid=doNkpG7LwMgEjRskAAAC&t=1631750937.7907822 HTTP/1.1\" 200 -\n",
      "127.0.0.1 - - [15/Sep/2021 17:09:26] \"POST /socket.io/?transport=polling&EIO=4&sid=doNkpG7LwMgEjRskAAAC HTTP/1.1\" 200 -\n",
      "127.0.0.1 - - [15/Sep/2021 17:09:31] \"GET /socket.io/?transport=polling&EIO=4&sid=doNkpG7LwMgEjRskAAAC&t=1631750943.9406078 HTTP/1.1\" 200 -\n",
      "127.0.0.1 - - [15/Sep/2021 17:09:33] \"POST /socket.io/?transport=polling&EIO=4&sid=doNkpG7LwMgEjRskAAAC HTTP/1.1\" 200 -\n",
      "127.0.0.1 - - [15/Sep/2021 17:09:46] \"GET /socket.io/?transport=polling&EIO=4&sid=doNkpG7LwMgEjRskAAAC&t=1631750959.6328108 HTTP/1.1\" 200 -\n",
      "127.0.0.1 - - [15/Sep/2021 17:09:48] \"POST /socket.io/?transport=polling&EIO=4&sid=doNkpG7LwMgEjRskAAAC HTTP/1.1\" 200 -\n",
      "127.0.0.1 - - [15/Sep/2021 17:09:51] \"GET /socket.io/?transport=polling&EIO=4&sid=doNkpG7LwMgEjRskAAAC&t=1631750964.855025 HTTP/1.1\" 200 -\n",
      "127.0.0.1 - - [15/Sep/2021 17:09:53] \"POST /socket.io/?transport=polling&EIO=4&sid=doNkpG7LwMgEjRskAAAC HTTP/1.1\" 200 -\n",
      "127.0.0.1 - - [15/Sep/2021 17:09:58] \"GET /socket.io/?transport=polling&EIO=4&sid=doNkpG7LwMgEjRskAAAC&t=1631750971.028216 HTTP/1.1\" 200 -\n",
      "127.0.0.1 - - [15/Sep/2021 17:10:00] \"POST /socket.io/?transport=polling&EIO=4&sid=doNkpG7LwMgEjRskAAAC HTTP/1.1\" 200 -\n",
      "127.0.0.1 - - [15/Sep/2021 17:10:13] \"GET /socket.io/?transport=polling&EIO=4&sid=doNkpG7LwMgEjRskAAAC&t=1631750986.7006068 HTTP/1.1\" 200 -\n",
      "127.0.0.1 - - [15/Sep/2021 17:10:15] \"POST /socket.io/?transport=polling&EIO=4&sid=doNkpG7LwMgEjRskAAAC HTTP/1.1\" 200 -\n",
      "127.0.0.1 - - [15/Sep/2021 17:10:18] \"GET /socket.io/?transport=polling&EIO=4&sid=doNkpG7LwMgEjRskAAAC&t=1631750991.901149 HTTP/1.1\" 200 -\n",
      "127.0.0.1 - - [15/Sep/2021 17:10:21] \"POST /socket.io/?transport=polling&EIO=4&sid=doNkpG7LwMgEjRskAAAC HTTP/1.1\" 200 -\n",
      "127.0.0.1 - - [15/Sep/2021 17:10:25] \"GET /socket.io/?transport=polling&EIO=4&sid=doNkpG7LwMgEjRskAAAC&t=1631750998.1311157 HTTP/1.1\" 200 -\n",
      "127.0.0.1 - - [15/Sep/2021 17:10:27] \"POST /socket.io/?transport=polling&EIO=4&sid=doNkpG7LwMgEjRskAAAC HTTP/1.1\" 200 -\n"
     ]
    }
   ],
   "metadata": {}
  }
 ],
 "metadata": {
  "interpreter": {
   "hash": "59ed7c0dcce09a926481e680eb6da94b94bea066b72bd69f5cd6857d231e2455"
  },
  "kernelspec": {
   "name": "python3",
   "display_name": "Python 3.9.6 64-bit"
  },
  "language_info": {
   "codemirror_mode": {
    "name": "ipython",
    "version": 3
   },
   "file_extension": ".py",
   "mimetype": "text/x-python",
   "name": "python",
   "nbconvert_exporter": "python",
   "pygments_lexer": "ipython3",
   "version": "3.9.6"
  },
  "orig_nbformat": 4
 },
 "nbformat": 4,
 "nbformat_minor": 2
}