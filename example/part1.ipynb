{
 "cells": [
  {
   "cell_type": "code",
   "execution_count": null,
   "source": [
    "import numpy as np\r\n",
    "import tensorflow as tf\r\n",
    "from tensorflow import keras\r\n",
    "import numpy\r\n",
    "\r\n",
    "import socketio\r\n",
    "import asyncio\r\n",
    "\r\n",
    "from flask import Flask, render_template\r\n",
    "from flask_socketio import SocketIO, send, emit"
   ],
   "outputs": [],
   "metadata": {}
  },
  {
   "cell_type": "code",
   "execution_count": null,
   "source": [
    "sio = socketio.AsyncClient()\r\n",
    "part1_model = tf.keras.models.load_model('models/part1')\r\n",
    "\r\n",
    "app = Flask(__name__)\r\n",
    "app.config['SECRET_KEY'] = 'secret!'\r\n",
    "socketio = SocketIO(app)"
   ],
   "outputs": [],
   "metadata": {}
  },
  {
   "cell_type": "code",
   "execution_count": null,
   "source": [
    "@sio.on('to part1', namespace=\"/net\")\r\n",
    "async def got_input(data):\r\n",
    "    print(\"Received data in part1\")\r\n",
    "    inpt = tf.convert_to_tensor(data[\"server\"])\r\n",
    "    out = part1_model(inpt).numpy().tolist()\r\n",
    "    await sio.emit('from node', data=(\"part1\", out), namespace=\"/net\")\r\n",
    "\r\n",
    "@sio.on('connect', namespace=\"/net\")\r\n",
    "def connect():\r\n",
    "    print(\"I'm connected!\")"
   ],
   "outputs": [],
   "metadata": {}
  },
  {
   "cell_type": "code",
   "execution_count": null,
   "source": [
    "await sio.connect('http://localhost:5000', namespaces=['/recv_model'], auth={\"name\": \"part1\"})\r\n",
    "await sio.wait()"
   ],
   "outputs": [],
   "metadata": {}
  },
  {
   "cell_type": "code",
   "execution_count": null,
   "source": [
    "if __name__ == '__main__':\r\n",
    "    socketio.run(app, port=5001)"
   ],
   "outputs": [],
   "metadata": {}
  }
 ],
 "metadata": {
  "interpreter": {
   "hash": "5202b1b321302d3e244bf56e867ff8fe1ef9c7446c57e95c118c3d2a6f0522ba"
  },
  "kernelspec": {
   "display_name": "Python 3.8.6 64-bit",
   "name": "python3"
  },
  "language_info": {
   "codemirror_mode": {
    "name": "ipython",
    "version": 3
   },
   "file_extension": ".py",
   "mimetype": "text/x-python",
   "name": "python",
   "nbconvert_exporter": "python",
   "pygments_lexer": "ipython3",
   "version": "3.8.6"
  },
  "orig_nbformat": 4
 },
 "nbformat": 4,
 "nbformat_minor": 2
}