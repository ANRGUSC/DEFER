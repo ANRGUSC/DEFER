{
 "cells": [
  {
   "cell_type": "code",
   "execution_count": 1,
   "source": [
    "import numpy as np\r\n",
    "import tensorflow as tf\r\n",
    "from tensorflow import keras\r\n",
    "\r\n",
    "import socketio\r\n",
    "import asyncio\r\n",
    "\r\n",
    "from flask import Flask\r\n",
    "from flask_socketio import SocketIO, send, emit"
   ],
   "outputs": [],
   "metadata": {}
  },
  {
   "cell_type": "code",
   "execution_count": 2,
   "source": [
    "sio = socketio.Client()\r\n",
    "\r\n",
    "app = Flask(__name__)\r\n",
    "app.config['SECRET_KEY'] = 'secret!'\r\n",
    "server = SocketIO(app, logger=True, engineio_logger=True)"
   ],
   "outputs": [
    {
     "output_type": "stream",
     "name": "stderr",
     "text": [
      "Server initialized for threading.\n"
     ]
    }
   ],
   "metadata": {}
  },
  {
   "cell_type": "code",
   "execution_count": 3,
   "source": [
    "@server.on('data', namespace=\"/recv_data\")\r\n",
    "def got_data(data):\r\n",
    "    print(\"Received data in part1\")\r\n",
    "    inpt = tf.convert_to_tensor(data)\r\n",
    "    out = model(inpt).numpy().tolist()\r\n",
    "    sio.emit('data', data=out, namespace=\"/recv_data\")\r\n",
    "\r\n",
    "@server.on('connect', namespace=\"/recv_model\")\r\n",
    "def connect(auth):\r\n",
    "    print(\"Dispatcher Connected, auth:\", auth[\"name\"])\r\n",
    "\r\n",
    "@server.on('disconnect', namespace=\"/recv_model\")\r\n",
    "def disconnect():\r\n",
    "    print(\"Dispatcher disconnected\")\r\n",
    "\r\n",
    "@server.on('connect', namespace=\"/recv_data\")\r\n",
    "def connect():\r\n",
    "    print(\"Previous node connected\")\r\n",
    "\r\n",
    "@server.on('dispatch', namespace=\"/recv_model\")\r\n",
    "def recv_model(model_json, next_node):\r\n",
    "    global model\r\n",
    "    print(model_json)\r\n",
    "    model = tf.keras.models.model_from_json(model_json)\r\n",
    "    #model.save(\"models/part1\")\r\n",
    "    print(next_node)\r\n",
    "    sio.connect(next_node, namespaces='/recv_data')\r\n",
    "    print(sio.connected)"
   ],
   "outputs": [],
   "metadata": {}
  },
  {
   "cell_type": "code",
   "execution_count": 4,
   "source": [
    "if __name__ == '__main__':\r\n",
    "    server.run(app, port=5001, debug=True, use_reloader=False)"
   ],
   "outputs": [
    {
     "output_type": "stream",
     "name": "stdout",
     "text": [
      " * Serving Flask app '__main__' (lazy loading)\n",
      " * Environment: production\n",
      "\u001b[31m   WARNING: This is a development server. Do not use it in a production deployment.\u001b[0m\n",
      "\u001b[2m   Use a production WSGI server instead.\u001b[0m\n",
      " * Debug mode: on\n"
     ]
    },
    {
     "output_type": "stream",
     "name": "stderr",
     "text": [
      " * Running on http://127.0.0.1:5001/ (Press CTRL+C to quit)\n",
      "vMczZ05sacIllQWjAAAA: Sending packet OPEN data {'sid': 'vMczZ05sacIllQWjAAAA', 'upgrades': ['websocket'], 'pingTimeout': 20000, 'pingInterval': 25000}\n",
      "127.0.0.1 - - [26/Sep/2021 23:58:48] \"GET /socket.io/?transport=polling&EIO=4&t=1632725928.154549 HTTP/1.1\" 200 -\n",
      "vMczZ05sacIllQWjAAAA: Received request to upgrade to websocket\n",
      "vMczZ05sacIllQWjAAAA: Upgrade to websocket successful\n",
      "vMczZ05sacIllQWjAAAA: Received packet MESSAGE data 0/recv_model,{\"name\":\"dispatcher\"}\n",
      "vMczZ05sacIllQWjAAAA: Sending packet MESSAGE data 0/recv_model,{\"sid\":\"BzTVokXOrQlRWsqRAAAB\"}\n",
      "vMczZ05sacIllQWjAAAA: Received packet MESSAGE data 2/recv_model,[\"dispatch\",\"{\\\"class_name\\\": \\\"Functional\\\", \\\"config\\\": {\\\"name\\\": \\\"model\\\", \\\"layers\\\": [{\\\"class_name\\\": \\\"InputLayer\\\", \\\"config\\\": {\\\"batch_input_shape\\\": [3, 2], \\\"dtype\\\": \\\"int32\\\", \\\"sparse\\\": false, \\\"ragged\\\": false, \\\"name\\\": \\\"input_1\\\"}, \\\"name\\\": \\\"input_1\\\", \\\"inbound_nodes\\\": []}, {\\\"class_name\\\": \\\"Dense\\\", \\\"config\\\": {\\\"name\\\": \\\"dense\\\", \\\"trainable\\\": true, \\\"dtype\\\": \\\"float32\\\", \\\"units\\\": 3, \\\"activation\\\": \\\"linear\\\", \\\"use_bias\\\": true, \\\"kernel_initializer\\\": {\\\"class_name\\\": \\\"Constant\\\", \\\"config\\\": {\\\"value\\\": 1.0}}, \\\"bias_initializer\\\": {\\\"class_name\\\": \\\"Zeros\\\", \\\"config\\\": {}}, \\\"kernel_regularizer\\\": null, \\\"bias_regularizer\\\": null, \\\"activity_regularizer\\\": null, \\\"kernel_constraint\\\": null, \\\"bias_constraint\\\": null}, \\\"name\\\": \\\"dense\\\", \\\"inbound_nodes\\\": [[[\\\"input_1\\\", 0, 0, {}]]]}], \\\"input_layers\\\": [[\\\"input_1\\\", 0, 0]], \\\"output_layers\\\": [[\\\"dense\\\", 0, 0]]}, \\\"keras_version\\\": \\\"2.6.0\\\", \\\"backend\\\": \\\"tensorflow\\\"}\",\"http://127.0.0.1:5002/\"]\n",
      "received event \"dispatch\" from BzTVokXOrQlRWsqRAAAB [/recv_model]\n"
     ]
    },
    {
     "output_type": "stream",
     "name": "stdout",
     "text": [
      "Dispatcher Connected, auth: dispatcher\n",
      "{\"class_name\": \"Functional\", \"config\": {\"name\": \"model\", \"layers\": [{\"class_name\": \"InputLayer\", \"config\": {\"batch_input_shape\": [3, 2], \"dtype\": \"int32\", \"sparse\": false, \"ragged\": false, \"name\": \"input_1\"}, \"name\": \"input_1\", \"inbound_nodes\": []}, {\"class_name\": \"Dense\", \"config\": {\"name\": \"dense\", \"trainable\": true, \"dtype\": \"float32\", \"units\": 3, \"activation\": \"linear\", \"use_bias\": true, \"kernel_initializer\": {\"class_name\": \"Constant\", \"config\": {\"value\": 1.0}}, \"bias_initializer\": {\"class_name\": \"Zeros\", \"config\": {}}, \"kernel_regularizer\": null, \"bias_regularizer\": null, \"activity_regularizer\": null, \"kernel_constraint\": null, \"bias_constraint\": null}, \"name\": \"dense\", \"inbound_nodes\": [[[\"input_1\", 0, 0, {}]]]}], \"input_layers\": [[\"input_1\", 0, 0]], \"output_layers\": [[\"dense\", 0, 0]]}, \"keras_version\": \"2.6.0\", \"backend\": \"tensorflow\"}\n",
      "http://127.0.0.1:5002/\n",
      "True\n"
     ]
    },
    {
     "output_type": "stream",
     "name": "stderr",
     "text": [
      "huNLflh9BmomUPrJAAAC: Sending packet OPEN data {'sid': 'huNLflh9BmomUPrJAAAC', 'upgrades': ['websocket'], 'pingTimeout': 20000, 'pingInterval': 25000}\n",
      "127.0.0.1 - - [26/Sep/2021 23:58:50] \"GET /socket.io/?transport=polling&EIO=4&t=1632725930.7327523 HTTP/1.1\" 200 -\n",
      "huNLflh9BmomUPrJAAAC: Received request to upgrade to websocket\n",
      "huNLflh9BmomUPrJAAAC: Upgrade to websocket successful\n",
      "huNLflh9BmomUPrJAAAC: Received packet MESSAGE data 0/recv_data,\n",
      "huNLflh9BmomUPrJAAAC: Sending packet MESSAGE data 0/recv_data,{\"sid\":\"Jv_Fle3t-fIR1422AAAD\"}\n",
      "huNLflh9BmomUPrJAAAC: Received packet MESSAGE data 2/recv_data,[\"data\",[[1,2],[3,4],[5,6]]]\n",
      "received event \"data\" from Jv_Fle3t-fIR1422AAAD [/recv_data]\n"
     ]
    },
    {
     "output_type": "stream",
     "name": "stdout",
     "text": [
      "Previous node connected\n",
      "Received data in part1\n"
     ]
    },
    {
     "output_type": "stream",
     "name": "stderr",
     "text": [
      "vMczZ05sacIllQWjAAAA: Sending packet PING data None\n",
      "huNLflh9BmomUPrJAAAC: Sending packet PING data None\n",
      "huNLflh9BmomUPrJAAAC: Received packet PONG data \n",
      "vMczZ05sacIllQWjAAAA: Unexpected error \"\", closing connection\n",
      "huNLflh9BmomUPrJAAAC: Unexpected error \"\", closing connection\n",
      "127.0.0.1 - - [26/Sep/2021 23:59:35] \"GET /socket.io/?transport=websocket&EIO=4&sid=huNLflh9BmomUPrJAAAC&t=1632725930.7577553 HTTP/1.1\" 200 -\n",
      "127.0.0.1 - - [26/Sep/2021 23:59:35] \"GET /socket.io/?transport=websocket&EIO=4&sid=vMczZ05sacIllQWjAAAA&t=1632725928.1705472 HTTP/1.1\" 200 -\n"
     ]
    },
    {
     "output_type": "stream",
     "name": "stdout",
     "text": [
      "Dispatcher disconnected\n"
     ]
    }
   ],
   "metadata": {}
  }
 ],
 "metadata": {
  "interpreter": {
   "hash": "59ed7c0dcce09a926481e680eb6da94b94bea066b72bd69f5cd6857d231e2455"
  },
  "kernelspec": {
   "name": "python3",
   "display_name": "Python 3.9.6 64-bit"
  },
  "language_info": {
   "codemirror_mode": {
    "name": "ipython",
    "version": 3
   },
   "file_extension": ".py",
   "mimetype": "text/x-python",
   "name": "python",
   "nbconvert_exporter": "python",
   "pygments_lexer": "ipython3",
   "version": "3.9.6"
  },
  "orig_nbformat": 4
 },
 "nbformat": 4,
 "nbformat_minor": 2
}