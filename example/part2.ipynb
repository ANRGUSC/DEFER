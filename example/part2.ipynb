{
 "cells": [
  {
   "cell_type": "code",
   "execution_count": 1,
   "source": [
    "import numpy as np\r\n",
    "import tensorflow as tf\r\n",
    "from tensorflow import keras\r\n",
    "\r\n",
    "import socketio\r\n",
    "\r\n",
    "from flask import Flask\r\n",
    "from flask_socketio import SocketIO, send, emit"
   ],
   "outputs": [],
   "metadata": {}
  },
  {
   "cell_type": "code",
   "execution_count": 2,
   "source": [
    "sio = socketio.Client()\r\n",
    "\r\n",
    "app = Flask(__name__)\r\n",
    "app.config['SECRET_KEY'] = 'secret!'\r\n",
    "server = SocketIO(app, logger=True, engineio_logger=True)"
   ],
   "outputs": [
    {
     "output_type": "stream",
     "name": "stderr",
     "text": [
      "Server initialized for threading.\n"
     ]
    }
   ],
   "metadata": {}
  },
  {
   "cell_type": "code",
   "execution_count": 3,
   "source": [
    "@server.on('data', namespace=\"/recv_data\")\r\n",
    "def got_data(data):\r\n",
    "    print(\"Received data in part2\")\r\n",
    "    inpt = tf.convert_to_tensor(data)\r\n",
    "    out = model(inpt).numpy().tolist()\r\n",
    "    sio.emit('data', data=out, namespace=\"/recv_data\")\r\n",
    "\r\n",
    "@server.on('connect', namespace=\"/recv_model\")\r\n",
    "def connect(auth):\r\n",
    "    print(\"Dispatcher Connected, auth:\", auth[\"name\"])\r\n",
    "\r\n",
    "@server.on('disconnect')\r\n",
    "def disconnect():\r\n",
    "    print(\"Dispatcher disconnected\")\r\n",
    "\r\n",
    "@server.on('connect', namespace=\"/recv_data\")\r\n",
    "def connect():\r\n",
    "    print(\"Previous node connected\")\r\n",
    "\r\n",
    "@server.on('dispatch', namespace=\"/recv_model\")\r\n",
    "def recv_model(model_json, next_node):\r\n",
    "    global model\r\n",
    "    model = tf.keras.models.model_from_json(model_json)\r\n",
    "    print(model_json)\r\n",
    "    #model.save(\"models/part2\")\r\n",
    "    print(next_node)\r\n",
    "    sio.connect(next_node, namespaces='/recv_data')"
   ],
   "outputs": [],
   "metadata": {}
  },
  {
   "cell_type": "code",
   "execution_count": 4,
   "source": [
    "if __name__ == '__main__':\r\n",
    "    server.run(app, port=5002, use_reloader=False)"
   ],
   "outputs": [
    {
     "output_type": "stream",
     "name": "stdout",
     "text": [
      " * Serving Flask app '__main__' (lazy loading)\n",
      " * Environment: production\n",
      "\u001b[31m   WARNING: This is a development server. Do not use it in a production deployment.\u001b[0m\n",
      "\u001b[2m   Use a production WSGI server instead.\u001b[0m\n",
      " * Debug mode: off\n"
     ]
    },
    {
     "output_type": "stream",
     "name": "stderr",
     "text": [
      " * Running on http://127.0.0.1:5002/ (Press CTRL+C to quit)\n",
      "-qBWf6weTvGbp7x9AAAA: Sending packet OPEN data {'sid': '-qBWf6weTvGbp7x9AAAA', 'upgrades': ['websocket'], 'pingTimeout': 20000, 'pingInterval': 25000}\n",
      "127.0.0.1 - - [26/Sep/2021 23:58:48] \"GET /socket.io/?transport=polling&EIO=4&t=1632725928.1845448 HTTP/1.1\" 200 -\n",
      "-qBWf6weTvGbp7x9AAAA: Received request to upgrade to websocket\n",
      "-qBWf6weTvGbp7x9AAAA: Upgrade to websocket successful\n",
      "-qBWf6weTvGbp7x9AAAA: Received packet MESSAGE data 0/recv_model,{\"name\":\"dispatcher\"}\n",
      "-qBWf6weTvGbp7x9AAAA: Sending packet MESSAGE data 0/recv_model,{\"sid\":\"6l1lO-7c30D9jFDrAAAB\"}\n",
      "-qBWf6weTvGbp7x9AAAA: Received packet MESSAGE data 2/recv_model,[\"dispatch\",\"{\\\"class_name\\\": \\\"Functional\\\", \\\"config\\\": {\\\"name\\\": \\\"model_1\\\", \\\"layers\\\": [{\\\"class_name\\\": \\\"InputLayer\\\", \\\"config\\\": {\\\"batch_input_shape\\\": [3, 3], \\\"dtype\\\": \\\"float32\\\", \\\"sparse\\\": false, \\\"ragged\\\": false, \\\"name\\\": \\\"input_2\\\"}, \\\"name\\\": \\\"input_2\\\", \\\"inbound_nodes\\\": []}, {\\\"class_name\\\": \\\"Dense\\\", \\\"config\\\": {\\\"name\\\": \\\"dense_1\\\", \\\"trainable\\\": true, \\\"dtype\\\": \\\"float32\\\", \\\"units\\\": 1, \\\"activation\\\": \\\"linear\\\", \\\"use_bias\\\": true, \\\"kernel_initializer\\\": {\\\"class_name\\\": \\\"Constant\\\", \\\"config\\\": {\\\"value\\\": 1.0}}, \\\"bias_initializer\\\": {\\\"class_name\\\": \\\"Zeros\\\", \\\"config\\\": {}}, \\\"kernel_regularizer\\\": null, \\\"bias_regularizer\\\": null, \\\"activity_regularizer\\\": null, \\\"kernel_constraint\\\": null, \\\"bias_constraint\\\": null}, \\\"name\\\": \\\"dense_1\\\", \\\"inbound_nodes\\\": [[[\\\"input_2\\\", 0, 0, {}]]]}], \\\"input_layers\\\": [[\\\"input_2\\\", 0, 0]], \\\"output_layers\\\": [[\\\"dense_1\\\", 0, 0]]}, \\\"keras_version\\\": \\\"2.6.0\\\", \\\"backend\\\": \\\"tensorflow\\\"}\",\"http://127.0.0.1:5000/\"]\n",
      "received event \"dispatch\" from 6l1lO-7c30D9jFDrAAAB [/recv_model]\n"
     ]
    },
    {
     "output_type": "stream",
     "name": "stdout",
     "text": [
      "Dispatcher Connected, auth: dispatcher\n"
     ]
    },
    {
     "output_type": "stream",
     "name": "stderr",
     "text": [
      "0_7MKMzzvhpHumoqAAAC: Sending packet OPEN data {'sid': '0_7MKMzzvhpHumoqAAAC', 'upgrades': ['websocket'], 'pingTimeout': 20000, 'pingInterval': 25000}\n",
      "127.0.0.1 - - [26/Sep/2021 23:58:48] \"GET /socket.io/?transport=polling&EIO=4&t=1632725928.6443276 HTTP/1.1\" 200 -\n",
      "0_7MKMzzvhpHumoqAAAC: Received request to upgrade to websocket\n",
      "0_7MKMzzvhpHumoqAAAC: Upgrade to websocket successful\n",
      "0_7MKMzzvhpHumoqAAAC: Received packet MESSAGE data 0/recv_data,\n",
      "0_7MKMzzvhpHumoqAAAC: Sending packet MESSAGE data 0/recv_data,{\"sid\":\"jkXtvEZivwhGUfzTAAAD\"}\n"
     ]
    },
    {
     "output_type": "stream",
     "name": "stdout",
     "text": [
      "{\"class_name\": \"Functional\", \"config\": {\"name\": \"model_1\", \"layers\": [{\"class_name\": \"InputLayer\", \"config\": {\"batch_input_shape\": [3, 3], \"dtype\": \"float32\", \"sparse\": false, \"ragged\": false, \"name\": \"input_2\"}, \"name\": \"input_2\", \"inbound_nodes\": []}, {\"class_name\": \"Dense\", \"config\": {\"name\": \"dense_1\", \"trainable\": true, \"dtype\": \"float32\", \"units\": 1, \"activation\": \"linear\", \"use_bias\": true, \"kernel_initializer\": {\"class_name\": \"Constant\", \"config\": {\"value\": 1.0}}, \"bias_initializer\": {\"class_name\": \"Zeros\", \"config\": {}}, \"kernel_regularizer\": null, \"bias_regularizer\": null, \"activity_regularizer\": null, \"kernel_constraint\": null, \"bias_constraint\": null}, \"name\": \"dense_1\", \"inbound_nodes\": [[[\"input_2\", 0, 0, {}]]]}], \"input_layers\": [[\"input_2\", 0, 0]], \"output_layers\": [[\"dense_1\", 0, 0]]}, \"keras_version\": \"2.6.0\", \"backend\": \"tensorflow\"}\n",
      "http://127.0.0.1:5000/\n",
      "Previous node connected\n"
     ]
    },
    {
     "output_type": "stream",
     "name": "stderr",
     "text": [
      "0_7MKMzzvhpHumoqAAAC: Received packet MESSAGE data 2/recv_data,[\"data\",[[3.0,3.0,3.0],[7.0,7.0,7.0],[11.0,11.0,11.0]]]\n",
      "received event \"data\" from jkXtvEZivwhGUfzTAAAD [/recv_data]\n"
     ]
    },
    {
     "output_type": "stream",
     "name": "stdout",
     "text": [
      "Received data in part2\n"
     ]
    },
    {
     "output_type": "stream",
     "name": "stderr",
     "text": [
      "-qBWf6weTvGbp7x9AAAA: Sending packet PING data None\n",
      "0_7MKMzzvhpHumoqAAAC: Sending packet PING data None\n",
      "0_7MKMzzvhpHumoqAAAC: Received packet PONG data \n",
      "-qBWf6weTvGbp7x9AAAA: Unexpected error \"\", closing connection\n",
      "127.0.0.1 - - [26/Sep/2021 23:59:35] \"GET /socket.io/?transport=websocket&EIO=4&sid=-qBWf6weTvGbp7x9AAAA&t=1632725928.198545 HTTP/1.1\" 200 -\n"
     ]
    }
   ],
   "metadata": {}
  }
 ],
 "metadata": {
  "interpreter": {
   "hash": "59ed7c0dcce09a926481e680eb6da94b94bea066b72bd69f5cd6857d231e2455"
  },
  "kernelspec": {
   "name": "python3",
   "display_name": "Python 3.9.6 64-bit"
  },
  "language_info": {
   "codemirror_mode": {
    "name": "ipython",
    "version": 3
   },
   "file_extension": ".py",
   "mimetype": "text/x-python",
   "name": "python",
   "nbconvert_exporter": "python",
   "pygments_lexer": "ipython3",
   "version": "3.9.6"
  },
  "orig_nbformat": 4
 },
 "nbformat": 4,
 "nbformat_minor": 2
}