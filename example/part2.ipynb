{
 "cells": [
  {
   "cell_type": "code",
   "execution_count": 1,
   "source": [
    "import numpy as np\r\n",
    "import tensorflow as tf\r\n",
    "from tensorflow import keras\r\n",
    "\r\n",
    "import socketio\r\n",
    "\r\n",
    "from flask import Flask\r\n",
    "from flask_socketio import SocketIO, send, emit"
   ],
   "outputs": [],
   "metadata": {}
  },
  {
   "cell_type": "code",
   "execution_count": 2,
   "source": [
    "sio = socketio.Client()\r\n",
    "\r\n",
    "app = Flask(__name__)\r\n",
    "app.config['SECRET_KEY'] = 'secret!'\r\n",
    "socketio = SocketIO(app)"
   ],
   "outputs": [],
   "metadata": {}
  },
  {
   "cell_type": "code",
   "execution_count": 3,
   "source": [
    "@socketio.on('data', namespace=\"/recv_data\")\r\n",
    "async def got_data(data):\r\n",
    "    print(\"Received data in part2\")\r\n",
    "    inpt = tf.convert_to_tensor(data)\r\n",
    "    out = model(inpt).numpy().tolist()\r\n",
    "    await sio.emit('data', data=out, namespace=\"/recv_data\")\r\n",
    "\r\n",
    "@socketio.on('connect', namespace=\"/recv_model\")\r\n",
    "def connect(auth):\r\n",
    "    print(\"Dispatcher Connected, auth:\", auth[\"name\"])\r\n",
    "\r\n",
    "@socketio.on('connect', namespace=\"/recv_data\")\r\n",
    "def connect():\r\n",
    "    print(\"Previous node connected\")\r\n",
    "\r\n",
    "@socketio.on('dispatch', namespace=\"/recv_model\")\r\n",
    "def recv_model(model_json, next_node):\r\n",
    "    global model\r\n",
    "    model = tf.keras.models.model_from_json(model_json)\r\n",
    "    print(model_json)\r\n",
    "    #model.save(\"models/part2\")\r\n",
    "    sio.connect(next_node, namespaces=['/recv_data'])"
   ],
   "outputs": [],
   "metadata": {}
  },
  {
   "cell_type": "code",
   "execution_count": 4,
   "source": [
    "if __name__ == '__main__':\r\n",
    "    socketio.run(app, port=5002)"
   ],
   "outputs": [
    {
     "output_type": "stream",
     "name": "stderr",
     "text": [
      "WebSocket transport not available. Install simple-websocket for improved performance.\n"
     ]
    },
    {
     "output_type": "stream",
     "name": "stdout",
     "text": [
      " * Serving Flask app '__main__' (lazy loading)\n",
      " * Environment: production\n",
      "\u001b[31m   WARNING: This is a development server. Do not use it in a production deployment.\u001b[0m\n",
      "\u001b[2m   Use a production WSGI server instead.\u001b[0m\n",
      " * Debug mode: off\n"
     ]
    },
    {
     "output_type": "stream",
     "name": "stderr",
     "text": [
      " * Running on http://127.0.0.1:5002/ (Press CTRL+C to quit)\n",
      "The WebSocket transport is not available, you must install a WebSocket server that is compatible with your async mode to enable it. See the documentation for details. (further occurrences of this error will be logged with level INFO)\n",
      "127.0.0.1 - - [15/Sep/2021 17:07:11] \"GET /socket.io/?transport=polling&EIO=4&t=1631750829.4895418 HTTP/1.1\" 200 -\n",
      "127.0.0.1 - - [15/Sep/2021 17:07:12] \"GET /socket.io/?transport=polling&EIO=4&t=1631750830.8762503 HTTP/1.1\" 200 -\n",
      "127.0.0.1 - - [15/Sep/2021 17:07:13] \"POST /socket.io/?transport=polling&EIO=4&sid=AxF40bflhBoNBjfsAAAA HTTP/1.1\" 200 -\n",
      "127.0.0.1 - - [15/Sep/2021 17:07:13] \"GET /socket.io/?transport=polling&EIO=4&sid=AxF40bflhBoNBjfsAAAA&t=1631750831.5867987 HTTP/1.1\" 200 -\n"
     ]
    },
    {
     "output_type": "stream",
     "name": "stdout",
     "text": [
      "Dispatcher Connected, auth: dispatcher\n"
     ]
    },
    {
     "output_type": "stream",
     "name": "stderr",
     "text": [
      "127.0.0.1 - - [15/Sep/2021 17:07:14] \"POST /socket.io/?transport=polling&EIO=4&sid=lWFGZPGWT2Jjq4mDAAAB HTTP/1.1\" 200 -\n",
      "127.0.0.1 - - [15/Sep/2021 17:07:14] \"GET /socket.io/?transport=polling&EIO=4&sid=lWFGZPGWT2Jjq4mDAAAB&t=1631750832.9290364 HTTP/1.1\" 200 -\n"
     ]
    },
    {
     "output_type": "stream",
     "name": "stdout",
     "text": [
      "Previous node connected\n"
     ]
    },
    {
     "output_type": "stream",
     "name": "stderr",
     "text": [
      "127.0.0.1 - - [15/Sep/2021 17:07:15] \"POST /socket.io/?transport=polling&EIO=4&sid=AxF40bflhBoNBjfsAAAA HTTP/1.1\" 200 -\n"
     ]
    },
    {
     "output_type": "stream",
     "name": "stdout",
     "text": [
      "{\"class_name\": \"Functional\", \"config\": {\"name\": \"model_1\", \"layers\": [{\"class_name\": \"InputLayer\", \"config\": {\"batch_input_shape\": [3, 3], \"dtype\": \"float32\", \"sparse\": false, \"ragged\": false, \"name\": \"input_2\"}, \"name\": \"input_2\", \"inbound_nodes\": []}, {\"class_name\": \"Dense\", \"config\": {\"name\": \"dense_1\", \"trainable\": true, \"dtype\": \"float32\", \"units\": 1, \"activation\": \"linear\", \"use_bias\": true, \"kernel_initializer\": {\"class_name\": \"Constant\", \"config\": {\"value\": 1.0}}, \"bias_initializer\": {\"class_name\": \"Zeros\", \"config\": {}}, \"kernel_regularizer\": null, \"bias_regularizer\": null, \"activity_regularizer\": null, \"kernel_constraint\": null, \"bias_constraint\": null}, \"name\": \"dense_1\", \"inbound_nodes\": [[[\"input_2\", 0, 0, {}]]]}], \"input_layers\": [[\"input_2\", 0, 0]], \"output_layers\": [[\"dense_1\", 0, 0]]}, \"keras_version\": \"2.6.0\", \"backend\": \"tensorflow\"}\n"
     ]
    },
    {
     "output_type": "stream",
     "name": "stderr",
     "text": [
      "Exception in thread Thread-16:\n",
      "Traceback (most recent call last):\n",
      "  File \"C:\\Users\\arjun\\AppData\\Local\\Programs\\Python\\Python39\\lib\\threading.py\", line 973, in _bootstrap_inner\n",
      "    self.run()\n",
      "  File \"C:\\Users\\arjun\\AppData\\Local\\Programs\\Python\\Python39\\lib\\threading.py\", line 910, in run\n",
      "    self._target(*self._args, **self._kwargs)\n",
      "  File \"C:\\Users\\arjun\\AppData\\Local\\Programs\\Python\\Python39\\lib\\site-packages\\socketio\\server.py\", line 712, in _handle_event_internal\n",
      "    r = server._trigger_event(data[0], namespace, sid, *data[1:])\n",
      "  File \"C:\\Users\\arjun\\AppData\\Local\\Programs\\Python\\Python39\\lib\\site-packages\\socketio\\server.py\", line 736, in _trigger_event\n",
      "    return self.handlers[namespace][event](*args)\n",
      "  File \"C:\\Users\\arjun\\AppData\\Local\\Programs\\Python\\Python39\\lib\\site-packages\\flask_socketio\\__init__.py\", line 282, in _handler\n",
      "    return self._handle_event(handler, message, namespace, sid,\n",
      "  File \"C:\\Users\\arjun\\AppData\\Local\\Programs\\Python\\Python39\\lib\\site-packages\\flask_socketio\\__init__.py\", line 766, in _handle_event\n",
      "    ret = handler(*args)\n",
      "  File \"C:\\Users\\arjun\\AppData\\Local\\Temp/ipykernel_20500/1607824378.py\", line 22, in recv_model\n",
      "  File \"C:\\Users\\arjun\\AppData\\Local\\Programs\\Python\\Python39\\lib\\site-packages\\socketio\\client.py\", line 338, in connect\n",
      "    raise exceptions.ConnectionError(\n",
      "socketio.exceptions.ConnectionError: One or more namespaces failed to connect\n",
      "127.0.0.1 - - [15/Sep/2021 17:07:36] \"GET /socket.io/?transport=polling&EIO=4&sid=AxF40bflhBoNBjfsAAAA&t=1631750833.621209 HTTP/1.1\" 200 -\n"
     ]
    }
   ],
   "metadata": {}
  }
 ],
 "metadata": {
  "interpreter": {
   "hash": "59ed7c0dcce09a926481e680eb6da94b94bea066b72bd69f5cd6857d231e2455"
  },
  "kernelspec": {
   "name": "python3",
   "display_name": "Python 3.9.6 64-bit"
  },
  "language_info": {
   "codemirror_mode": {
    "name": "ipython",
    "version": 3
   },
   "file_extension": ".py",
   "mimetype": "text/x-python",
   "name": "python",
   "nbconvert_exporter": "python",
   "pygments_lexer": "ipython3",
   "version": "3.9.6"
  },
  "orig_nbformat": 4
 },
 "nbformat": 4,
 "nbformat_minor": 2
}