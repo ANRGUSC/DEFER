{
 "cells": [
  {
   "cell_type": "code",
   "execution_count": null,
   "metadata": {},
   "outputs": [],
   "source": [
    "import numpy as np\r\n",
    "import tensorflow as tf\r\n",
    "from tensorflow import keras\r\n",
    "import numpy\r\n",
    "\r\n",
    "import socketio\r\n",
    "import asyncio"
   ]
  },
  {
   "cell_type": "code",
   "execution_count": null,
   "metadata": {},
   "outputs": [],
   "source": [
    "sio = socketio.AsyncClient()\r\n",
    "part2_model = tf.keras.models.load_model('models/part2')"
   ]
  },
  {
   "cell_type": "code",
   "execution_count": null,
   "metadata": {},
   "outputs": [],
   "source": [
    "@sio.on('to part2', namespace=\"/net\")\r\n",
    "async def got_input(data):\r\n",
    "    print(\"Received data in part2\")\r\n",
    "    inpt = tf.convert_to_tensor(data[\"server\"])\r\n",
    "    out = part2_model(inpt).numpy().tolist()\r\n",
    "    await sio.emit('from node', data=(\"part2\", out), namespace=\"/net\")\r\n",
    "\r\n",
    "@sio.on('connect', namespace=\"/net\")\r\n",
    "def connect():\r\n",
    "    print(\"I'm connected!\")\r\n",
    "\r\n",
    "@sio.on('disconnect', namespace=\"/net\")\r\n",
    "def disconnect():\r\n",
    "    print(\"I'm disconnected!\")\r\n",
    "    exit(0)"
   ]
  },
  {
   "cell_type": "code",
   "execution_count": null,
   "metadata": {},
   "outputs": [],
   "source": [
    "await sio.connect('http://localhost:5000', namespaces=['/net'], auth={\"name\": \"part2\"})\r\n",
    "await sio.wait()"
   ]
  }
 ],
 "metadata": {
  "interpreter": {
   "hash": "5202b1b321302d3e244bf56e867ff8fe1ef9c7446c57e95c118c3d2a6f0522ba"
  },
  "kernelspec": {
   "display_name": "Python 3.8.6 64-bit",
   "name": "python3"
  },
  "language_info": {
   "codemirror_mode": {
    "name": "ipython",
    "version": 3
   },
   "file_extension": ".py",
   "mimetype": "text/x-python",
   "name": "python",
   "nbconvert_exporter": "python",
   "pygments_lexer": "ipython3",
   "version": "3.8.6"
  },
  "orig_nbformat": 4
 },
 "nbformat": 4,
 "nbformat_minor": 2
}